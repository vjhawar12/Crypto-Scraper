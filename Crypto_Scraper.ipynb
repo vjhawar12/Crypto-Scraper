{
  "nbformat": 4,
  "nbformat_minor": 0,
  "metadata": {
    "colab": {
      "provenance": [],
      "authorship_tag": "ABX9TyMeFesHzHcdFiQT39VbCBOF",
      "include_colab_link": true
    },
    "kernelspec": {
      "name": "python3",
      "display_name": "Python 3"
    },
    "language_info": {
      "name": "python"
    }
  },
  "cells": [
    {
      "cell_type": "markdown",
      "metadata": {
        "id": "view-in-github",
        "colab_type": "text"
      },
      "source": [
        "<a href=\"https://colab.research.google.com/github/vjhawar12/Crypto-Scraper/blob/main/Crypto_Scraper.ipynb\" target=\"_parent\"><img src=\"https://colab.research.google.com/assets/colab-badge.svg\" alt=\"Open In Colab\"/></a>"
      ]
    },
    {
      "cell_type": "code",
      "execution_count": 1,
      "metadata": {
        "id": "JaCTbMVgqubV"
      },
      "outputs": [],
      "source": [
        "import pandas as pd\n",
        "import requests\n",
        "from bs4 import BeautifulSoup"
      ]
    },
    {
      "cell_type": "code",
      "source": [
        "url = \"https://coinmarketcap.com/\"\n",
        "r = requests.get(url)\n",
        "rawContent = r.content\n",
        "\n",
        "soup = BeautifulSoup(rawContent, 'html5lib') # passing in the raw content and the html parser (html5lib which is good for messy html\n",
        "\n",
        "tableRows = soup.select(\"tr\")\n",
        "\n",
        "listOfNames = []\n",
        "listOfPrices = []\n",
        "\n",
        "table = dict()\n",
        "\n",
        "for row in tableRows:\n",
        "  names = row.select(\".sc-4984dd93-0.kKpPOn\")\n",
        "  prices = row.select(\".sc-a0353bbc-0.gDrtaY\")\n",
        "  for name in names:\n",
        "    if name != None:\n",
        "      listOfNames.append(name.text)\n",
        "  for price in prices:\n",
        "    if price != None:\n",
        "      listOfPrices.append(price.text)\n",
        "\n",
        "for i in range(len(listOfNames)):\n",
        "  table[listOfNames[i]] = listOfPrices[i]\n",
        "\n",
        "print(table)\n"
      ],
      "metadata": {
        "id": "PjE7AQVKq-wL",
        "colab": {
          "base_uri": "https://localhost:8080/"
        },
        "outputId": "86a8808c-2e6f-4e08-de5d-b0f1a3a5f8e5"
      },
      "execution_count": 21,
      "outputs": [
        {
          "output_type": "stream",
          "name": "stdout",
          "text": [
            "{'Bitcoin': '$27,213.05', 'Ethereum': '$1,648.68', 'Tether USDt': '$1.00', 'BNB': '$217.26', 'XRP': '$0.5139', 'USD Coin': '$1.00', 'Cardano': '$0.256', 'Dogecoin': '$0.06284', 'Toncoin': '$2.55', 'Solana': '$19.97'}\n"
          ]
        }
      ]
    }
  ]
}