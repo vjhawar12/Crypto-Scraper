{
  "nbformat": 4,
  "nbformat_minor": 0,
  "metadata": {
    "colab": {
      "provenance": [],
      "authorship_tag": "ABX9TyPpKBE7cuhPiuRsBejrWwU5",
      "include_colab_link": true
    },
    "kernelspec": {
      "name": "python3",
      "display_name": "Python 3"
    },
    "language_info": {
      "name": "python"
    }
  },
  "cells": [
    {
      "cell_type": "markdown",
      "metadata": {
        "id": "view-in-github",
        "colab_type": "text"
      },
      "source": [
        "<a href=\"https://colab.research.google.com/github/vjhawar12/Crypto-Scraper/blob/main/Crypto_Scraper.ipynb\" target=\"_parent\"><img src=\"https://colab.research.google.com/assets/colab-badge.svg\" alt=\"Open In Colab\"/></a>"
      ]
    },
    {
      "cell_type": "code",
      "execution_count": 30,
      "metadata": {
        "id": "JaCTbMVgqubV"
      },
      "outputs": [],
      "source": [
        "import requests # for making get requests\n",
        "from bs4 import BeautifulSoup # for parsing html"
      ]
    },
    {
      "cell_type": "code",
      "source": [
        "# making a get request to url and retrieving the html\n",
        "url = \"https://coinmarketcap.com/\"\n",
        "r = requests.get(url)\n",
        "rawContent = r.content\n",
        "\n",
        "# passing in the raw content and the html parser (html5lib which is good for messy html\n",
        "soup = BeautifulSoup(rawContent, 'html5lib')\n",
        "\n",
        "# this html component is where the data is\n",
        "tableRows = soup.select(\"tr\")\n",
        "\n",
        "# this function returns a dictionary of names and prices\n",
        "def getPrices():\n",
        "  listOfNames = []\n",
        "  listOfPrices = []\n",
        "  for row in tableRows:\n",
        "    names = row.select(\".sc-4984dd93-0.kKpPOn\")\n",
        "    prices = row.select(\".sc-a0353bbc-0.gDrtaY\")\n",
        "    for name in names:\n",
        "      if name != None:\n",
        "        listOfNames.append(name.text)\n",
        "    for price in prices:\n",
        "      if price != None:\n",
        "        listOfPrices.append(price.text)\n",
        "\n",
        "  table = dict()\n",
        "  for i in range(len(listOfNames)):\n",
        "    table[listOfNames[i]] = listOfPrices[i]\n",
        "  return table\n",
        "\n",
        "# this function returns a dictionary of names and market cap\n",
        "def getMarketCap():\n",
        "  listOfNames = []\n",
        "  marketCaps = []\n",
        "  for row in tableRows:\n",
        "    names = row.select(\".sc-4984dd93-0.kKpPOn\")\n",
        "    caps = row.select(\".sc-f8982b1f-0.jYSZLP\")\n",
        "    for name in names:\n",
        "      if name != None:\n",
        "        listOfNames.append(name.text)\n",
        "    for cap in caps:\n",
        "      if cap != None:\n",
        "        marketCaps.append(cap.text)\n",
        "\n",
        "  table = dict()\n",
        "  for i in range(len(listOfNames)):\n",
        "    table[listOfNames[i]] = marketCaps[i]\n",
        "\n",
        "  return table\n",
        "\n",
        "print(getPrices())\n",
        "print(getMarketCap())"
      ],
      "metadata": {
        "id": "PjE7AQVKq-wL",
        "colab": {
          "base_uri": "https://localhost:8080/"
        },
        "outputId": "bfbd9c68-682e-4578-f2c0-06f28a969052"
      },
      "execution_count": 34,
      "outputs": [
        {
          "output_type": "stream",
          "name": "stdout",
          "text": [
            "{'Bitcoin': '$27,167.66', 'Ethereum': '$1,647.43', 'Tether USDt': '$1.00', 'BNB': '$217.22', 'XRP': '$0.5141', 'USD Coin': '$1.00', 'Cardano': '$0.2557', 'Dogecoin': '$0.06281', 'Toncoin': '$2.56', 'Solana': '$20.02'}\n",
            "{'Bitcoin': '$529.56B', 'Ethereum': '$198.14B', 'Tether USDt': '$83.12B', 'BNB': '$33.42B', 'XRP': '$27.34B', 'USD Coin': '$26.02B', 'Cardano': '$8.98B', 'Dogecoin': '$8.86B', 'Toncoin': '$8.78B', 'Solana': '$8.23B'}\n"
          ]
        }
      ]
    }
  ]
}